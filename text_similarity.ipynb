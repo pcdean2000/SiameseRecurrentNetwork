{
 "cells": [
  {
   "cell_type": "code",
   "execution_count": null,
   "metadata": {},
   "outputs": [],
   "source": [
    "import pandas as pd\n",
    "import numpy as np\n",
    "import torch\n",
    "import torch.nn as nn\n",
    "import torch.optim as optim\n",
    "from torch.utils.data import Dataset, DataLoader\n",
    "from sklearn.model_selection import train_test_split\n",
    "from sklearn.preprocessing import LabelEncoder\n",
    "import random"
   ]
  },
  {
   "cell_type": "code",
   "execution_count": null,
   "metadata": {},
   "outputs": [],
   "source": [
    "# Prepare dataset\n",
    "def prepare_dataset(path):\n",
    "    df = pd.read_csv(path, sep='\\t', lineterminator='\\n', header=None)\n",
    "    df = df.rename(columns={0: 'name1', 1: 'name2', 3: 'label'})\n",
    "    x1, x2, label = [], [], []\n",
    "    name1, name2 = df.name1.values.tolist(), df.name2.values.tolist()\n",
    "    for n1, n2 in zip(name1, name2):\n",
    "        if random.random() > 0.5:\n",
    "            x1.append(n1)\n",
    "            x2.append(n2)\n",
    "        else:\n",
    "            x1.append(n2)\n",
    "            x2.append(n1)\n",
    "        label.append(1)\n",
    "    all_name = np.asarray(name1 + name2)\n",
    "    shuffle_name = all_name[np.random.permutation(np.arange(len(all_name)))]\n",
    "    for n1, n2 in zip(all_name, shuffle_name):\n",
    "        if random.random() > 0.5:\n",
    "            x1.append(n1)\n",
    "            x2.append(n2)\n",
    "        else:\n",
    "            x1.append(n2)\n",
    "            x2.append(n1)\n",
    "        label.append(0)\n",
    "    return pd.DataFrame({'name1': x1, 'name2': x2, 'label': label})\n",
    "\n",
    "url = 'https://raw.githubusercontent.com/ujjalkumarmaity/research-paper-implementation/main/Learning-Text-Similarity-with-Siamese-Recurrent-Networks/person_match.train2'\n",
    "df = prepare_dataset(url)"
   ]
  },
  {
   "cell_type": "code",
   "execution_count": null,
   "metadata": {},
   "outputs": [],
   "source": [
    "# Tokenize and pad sequences\n",
    "MAX_SEQ_LEN = 70\n",
    "tokenizer = LabelEncoder()\n",
    "tokenizer.fit(df['name1'].tolist() + df['name2'].tolist())\n",
    "\n",
    "def prepere_training_data(df, tokenizer):\n",
    "    name1_seq = tokenizer.transform(df['name1'])\n",
    "    name2_seq = tokenizer.transform(df['name2'])\n",
    "    name1_seq = np.pad(name1_seq, (0, MAX_SEQ_LEN - len(name1_seq)), 'constant')\n",
    "    name2_seq = np.pad(name2_seq, (0, MAX_SEQ_LEN - len(name2_seq)), 'constant')\n",
    "    return name1_seq, name2_seq, df['label'].values\n",
    "\n",
    "train, test = train_test_split(df, test_size=0.2, stratify=df['label'])\n",
    "train_text2seq_1, train_text2seq_2, train_label = prepere_training_data(train, tokenizer)\n",
    "test_text2seq_1, test_text2seq_2, test_label = prepere_training_data(test, tokenizer)"
   ]
  },
  {
   "cell_type": "code",
   "execution_count": null,
   "metadata": {},
   "outputs": [],
   "source": [
    "# Create Dataset and DataLoader\n",
    "class SiameseDataset(Dataset):\n",
    "    def __init__(self, seq1, seq2, labels):\n",
    "        self.seq1 = seq1\n",
    "        self.seq2 = seq2\n",
    "        self.labels = labels\n",
    "\n",
    "    def __len__(self):\n",
    "        return len(self.labels)\n",
    "\n",
    "    def __getitem__(self, idx):\n",
    "        return torch.tensor(self.seq1[idx], dtype=torch.long), torch.tensor(self.seq2[idx], dtype=torch.long), torch.tensor(self.labels[idx], dtype=torch.float32)\n",
    "\n",
    "train_dataset = SiameseDataset(train_text2seq_1, train_text2seq_2, train_label)\n",
    "test_dataset = SiameseDataset(test_text2seq_1, test_text2seq_2, test_label)\n",
    "train_loader = DataLoader(train_dataset, batch_size=16, shuffle=True)\n",
    "test_loader = DataLoader(test_dataset, batch_size=16, shuffle=False)"
   ]
  },
  {
   "cell_type": "code",
   "execution_count": null,
   "metadata": {},
   "outputs": [],
   "source": [
    "# Define the model\n",
    "class SiameseNetwork(nn.Module):\n",
    "    def __init__(self, vocab_size, embedding_dim, hidden_dim):\n",
    "        super(SiameseNetwork, self).__init__()\n",
    "        self.embedding = nn.Embedding(vocab_size, embedding_dim)\n",
    "        self.lstm = nn.LSTM(embedding_dim, hidden_dim, batch_first=True, bidirectional=True)\n",
    "        self.fc = nn.Linear(hidden_dim * 2, 128)\n",
    "        self.out = nn.Linear(128, 1)\n",
    "\n",
    "    def forward_one(self, x):\n",
    "        x = self.embedding(x)\n",
    "        x, _ = self.lstm(x)\n",
    "        x = torch.mean(x, dim=1)\n",
    "        x = self.fc(x)\n",
    "        return x\n",
    "\n",
    "    def forward(self, input1, input2):\n",
    "        output1 = self.forward_one(input1)\n",
    "        output2 = self.forward_one(input2)\n",
    "        return output1, output2"
   ]
  },
  {
   "cell_type": "code",
   "execution_count": null,
   "metadata": {},
   "outputs": [],
   "source": [
    "# Euclidean distance\n",
    "def euclidean_distance(x, y):\n",
    "    return torch.sqrt(torch.sum((x - y) ** 2, dim=1))"
   ]
  },
  {
   "cell_type": "code",
   "execution_count": null,
   "metadata": {},
   "outputs": [],
   "source": [
    "# Contrastive loss\n",
    "class ContrastiveLoss(nn.Module):\n",
    "    def __init__(self, margin=1.0):\n",
    "        super(ContrastiveLoss, self).__init__()\n",
    "        self.margin = margin\n",
    "\n",
    "    def forward(self, output1, output2, label):\n",
    "        euclidean_dist = euclidean_distance(output1, output2)\n",
    "        loss_contrastive = torch.mean((1 - label) * torch.pow(euclidean_dist, 2) +\n",
    "                                      (label) * torch.pow(torch.clamp(self.margin - euclidean_dist, min=0.0), 2))\n",
    "        return loss_contrastive"
   ]
  },
  {
   "cell_type": "code",
   "execution_count": null,
   "metadata": {},
   "outputs": [],
   "source": [
    "# Training\n",
    "device = torch.device('cuda' if torch.cuda.is_available() else 'cpu')\n",
    "model = SiameseNetwork(len(tokenizer.classes_), 16, 64).to(device)\n",
    "criterion = ContrastiveLoss()\n",
    "optimizer = optim.Adam(model.parameters(), lr=0.001)\n",
    "\n",
    "num_epochs = 5\n",
    "for epoch in range(num_epochs):\n",
    "    model.train()\n",
    "    for seq1, seq2, labels in train_loader:\n",
    "        seq1, seq2, labels = seq1.to(device), seq2.to(device), labels.to(device)\n",
    "        optimizer.zero_grad()\n",
    "        output1, output2 = model(seq1, seq2)\n",
    "        loss = criterion(output1, output2, labels)\n",
    "        loss.backward()\n",
    "        optimizer.step()\n",
    "    print(f'Epoch [{epoch+1}/{num_epochs}], Loss: {loss.item():.4f}')"
   ]
  },
  {
   "cell_type": "code",
   "execution_count": null,
   "metadata": {},
   "outputs": [],
   "source": [
    "# Evaluation\n",
    "model.eval()\n",
    "with torch.no_grad():\n",
    "    correct, total = 0, 0\n",
    "    for seq1, seq2, labels in test_loader:\n",
    "        seq1, seq2, labels = seq1.to(device), seq2.to(device), labels.to(device)\n",
    "        output1, output2 = model(seq1, seq2)\n",
    "        euclidean_dist = euclidean_distance(output1, output2)\n",
    "        predictions = (euclidean_dist < 0.5).float()\n",
    "        correct += (predictions == labels).sum().item()\n",
    "        total += labels.size(0)\n",
    "    print(f'Accuracy: {correct / total:.4f}')"
   ]
  }
 ],
 "metadata": {
  "language_info": {
   "name": "python"
  }
 },
 "nbformat": 4,
 "nbformat_minor": 2
}
